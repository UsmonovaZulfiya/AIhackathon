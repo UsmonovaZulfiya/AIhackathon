{
 "cells": [
  {
   "cell_type": "code",
   "execution_count": 15,
   "id": "b8559e2a",
   "metadata": {},
   "outputs": [],
   "source": [
    "import pandas as pd\n",
    "import numpy as np\n",
    "import string\n",
    "import re\n",
    "from sklearn.preprocessing import OneHotEncoder\n",
    "from sklearn.preprocessing import LabelEncoder\n",
    "from sklearn.naive_bayes import MultinomialNB"
   ]
  },
  {
   "cell_type": "code",
   "execution_count": 40,
   "id": "d5a057c7",
   "metadata": {},
   "outputs": [
    {
     "data": {
      "text/html": [
       "<div>\n",
       "<style scoped>\n",
       "    .dataframe tbody tr th:only-of-type {\n",
       "        vertical-align: middle;\n",
       "    }\n",
       "\n",
       "    .dataframe tbody tr th {\n",
       "        vertical-align: top;\n",
       "    }\n",
       "\n",
       "    .dataframe thead th {\n",
       "        text-align: right;\n",
       "    }\n",
       "</style>\n",
       "<table border=\"1\" class=\"dataframe\">\n",
       "  <thead>\n",
       "    <tr style=\"text-align: right;\">\n",
       "      <th></th>\n",
       "      <th>medical_condition</th>\n",
       "      <th>conclusion</th>\n",
       "    </tr>\n",
       "  </thead>\n",
       "  <tbody>\n",
       "    <tr>\n",
       "      <th>0</th>\n",
       "      <td>Acne</td>\n",
       "      <td>Acne Vulgaris</td>\n",
       "    </tr>\n",
       "    <tr>\n",
       "      <th>1</th>\n",
       "      <td>Acne</td>\n",
       "      <td>Pimples</td>\n",
       "    </tr>\n",
       "    <tr>\n",
       "      <th>2</th>\n",
       "      <td>Acne</td>\n",
       "      <td>Whiteheads</td>\n",
       "    </tr>\n",
       "    <tr>\n",
       "      <th>3</th>\n",
       "      <td>ADHD</td>\n",
       "      <td>ADHD (Attention Deficit Hyperactivity Disorder)</td>\n",
       "    </tr>\n",
       "    <tr>\n",
       "      <th>4</th>\n",
       "      <td>ADHD</td>\n",
       "      <td>ADD</td>\n",
       "    </tr>\n",
       "  </tbody>\n",
       "</table>\n",
       "</div>"
      ],
      "text/plain": [
       "  medical_condition                                       conclusion\n",
       "0              Acne                                    Acne Vulgaris\n",
       "1              Acne                                          Pimples\n",
       "2              Acne                                       Whiteheads\n",
       "3              ADHD  ADHD (Attention Deficit Hyperactivity Disorder)\n",
       "4              ADHD                                              ADD"
      ]
     },
     "execution_count": 40,
     "metadata": {},
     "output_type": "execute_result"
    }
   ],
   "source": [
    "dataset1 = pd.read_excel('medical_descriptions_conclusions.xlsx')\n",
    "dataset2 = pd.read_excel('dataset2.xlsx')\n",
    "dataset1.head()"
   ]
  },
  {
   "cell_type": "code",
   "execution_count": 41,
   "id": "e932b83b",
   "metadata": {},
   "outputs": [
    {
     "data": {
      "text/html": [
       "<div>\n",
       "<style scoped>\n",
       "    .dataframe tbody tr th:only-of-type {\n",
       "        vertical-align: middle;\n",
       "    }\n",
       "\n",
       "    .dataframe tbody tr th {\n",
       "        vertical-align: top;\n",
       "    }\n",
       "\n",
       "    .dataframe thead th {\n",
       "        text-align: right;\n",
       "    }\n",
       "</style>\n",
       "<table border=\"1\" class=\"dataframe\">\n",
       "  <thead>\n",
       "    <tr style=\"text-align: right;\">\n",
       "      <th></th>\n",
       "      <th>medical_condition</th>\n",
       "      <th>conclusion</th>\n",
       "    </tr>\n",
       "  </thead>\n",
       "  <tbody>\n",
       "    <tr>\n",
       "      <th>0</th>\n",
       "      <td>acne</td>\n",
       "      <td>acne vulgaris</td>\n",
       "    </tr>\n",
       "    <tr>\n",
       "      <th>1</th>\n",
       "      <td>acne</td>\n",
       "      <td>pimples</td>\n",
       "    </tr>\n",
       "    <tr>\n",
       "      <th>2</th>\n",
       "      <td>acne</td>\n",
       "      <td>whiteheads</td>\n",
       "    </tr>\n",
       "    <tr>\n",
       "      <th>3</th>\n",
       "      <td>adhd</td>\n",
       "      <td>adhd attention deficit hyperactivity disorder</td>\n",
       "    </tr>\n",
       "    <tr>\n",
       "      <th>4</th>\n",
       "      <td>adhd</td>\n",
       "      <td>add</td>\n",
       "    </tr>\n",
       "    <tr>\n",
       "      <th>...</th>\n",
       "      <td>...</td>\n",
       "      <td>...</td>\n",
       "    </tr>\n",
       "    <tr>\n",
       "      <th>117</th>\n",
       "      <td>uti</td>\n",
       "      <td>uti</td>\n",
       "    </tr>\n",
       "    <tr>\n",
       "      <th>118</th>\n",
       "      <td>uti</td>\n",
       "      <td>urinary tract infection</td>\n",
       "    </tr>\n",
       "    <tr>\n",
       "      <th>119</th>\n",
       "      <td>uti</td>\n",
       "      <td>acute bacterial cystitis</td>\n",
       "    </tr>\n",
       "    <tr>\n",
       "      <th>120</th>\n",
       "      <td>uti</td>\n",
       "      <td>infection</td>\n",
       "    </tr>\n",
       "    <tr>\n",
       "      <th>121</th>\n",
       "      <td>uti</td>\n",
       "      <td>urinary tract</td>\n",
       "    </tr>\n",
       "  </tbody>\n",
       "</table>\n",
       "<p>122 rows × 2 columns</p>\n",
       "</div>"
      ],
      "text/plain": [
       "    medical_condition                                     conclusion\n",
       "0                acne                                  acne vulgaris\n",
       "1                acne                                        pimples\n",
       "2                acne                                     whiteheads\n",
       "3                adhd  adhd attention deficit hyperactivity disorder\n",
       "4                adhd                                            add\n",
       "..                ...                                            ...\n",
       "117               uti                                            uti\n",
       "118               uti                        urinary tract infection\n",
       "119               uti                       acute bacterial cystitis\n",
       "120               uti                                      infection\n",
       "121               uti                                  urinary tract\n",
       "\n",
       "[122 rows x 2 columns]"
      ]
     },
     "execution_count": 41,
     "metadata": {},
     "output_type": "execute_result"
    }
   ],
   "source": [
    "def clean_text(text):\n",
    "    text = text.lower()\n",
    "    text = text.translate(str.maketrans('', '', string.punctuation))\n",
    "    text = re.sub(r'\\s+', ' ', text).strip()\n",
    "    return text\n",
    "\n",
    "dataset1['medical_condition'] = dataset1['medical_condition'].apply(clean_text)\n",
    "dataset2['medical_condition'] = dataset2['medical_condition'].apply(clean_text)\n",
    "dataset1['conclusion'] = dataset1['conclusion'].apply(clean_text)\n",
    "\n",
    "dataset1\n"
   ]
  },
  {
   "cell_type": "code",
   "execution_count": 42,
   "id": "af1e443d",
   "metadata": {},
   "outputs": [],
   "source": [
    "conclusions = dataset1['conclusion']\n",
    "medical_conditions = dataset1['medical_condition']"
   ]
  },
  {
   "cell_type": "code",
   "execution_count": 43,
   "id": "9ee54dd1",
   "metadata": {},
   "outputs": [
    {
     "name": "stderr",
     "output_type": "stream",
     "text": [
      "C:\\Users\\HP\\miniconda3\\envs\\csml\\lib\\site-packages\\sklearn\\preprocessing\\_encoders.py:972: FutureWarning: `sparse` was renamed to `sparse_output` in version 1.2 and will be removed in 1.4. `sparse_output` is ignored unless you leave `sparse` to its default value.\n",
      "  warnings.warn(\n"
     ]
    }
   ],
   "source": [
    "onehot_encoder = OneHotEncoder(sparse=False)\n",
    "conclusions_reshaped = conclusions.values.reshape(-1, 1)\n",
    "encoded_features = onehot_encoder.fit_transform(conclusions_reshaped)"
   ]
  },
  {
   "cell_type": "code",
   "execution_count": 44,
   "id": "4cf54508",
   "metadata": {},
   "outputs": [],
   "source": [
    "label_encoder = LabelEncoder()\n",
    "encoded_labels = label_encoder.fit_transform(medical_conditions)"
   ]
  },
  {
   "cell_type": "code",
   "execution_count": 45,
   "id": "a8814c96",
   "metadata": {},
   "outputs": [
    {
     "data": {
      "text/html": [
       "<style>#sk-container-id-3 {color: black;}#sk-container-id-3 pre{padding: 0;}#sk-container-id-3 div.sk-toggleable {background-color: white;}#sk-container-id-3 label.sk-toggleable__label {cursor: pointer;display: block;width: 100%;margin-bottom: 0;padding: 0.3em;box-sizing: border-box;text-align: center;}#sk-container-id-3 label.sk-toggleable__label-arrow:before {content: \"▸\";float: left;margin-right: 0.25em;color: #696969;}#sk-container-id-3 label.sk-toggleable__label-arrow:hover:before {color: black;}#sk-container-id-3 div.sk-estimator:hover label.sk-toggleable__label-arrow:before {color: black;}#sk-container-id-3 div.sk-toggleable__content {max-height: 0;max-width: 0;overflow: hidden;text-align: left;background-color: #f0f8ff;}#sk-container-id-3 div.sk-toggleable__content pre {margin: 0.2em;color: black;border-radius: 0.25em;background-color: #f0f8ff;}#sk-container-id-3 input.sk-toggleable__control:checked~div.sk-toggleable__content {max-height: 200px;max-width: 100%;overflow: auto;}#sk-container-id-3 input.sk-toggleable__control:checked~label.sk-toggleable__label-arrow:before {content: \"▾\";}#sk-container-id-3 div.sk-estimator input.sk-toggleable__control:checked~label.sk-toggleable__label {background-color: #d4ebff;}#sk-container-id-3 div.sk-label input.sk-toggleable__control:checked~label.sk-toggleable__label {background-color: #d4ebff;}#sk-container-id-3 input.sk-hidden--visually {border: 0;clip: rect(1px 1px 1px 1px);clip: rect(1px, 1px, 1px, 1px);height: 1px;margin: -1px;overflow: hidden;padding: 0;position: absolute;width: 1px;}#sk-container-id-3 div.sk-estimator {font-family: monospace;background-color: #f0f8ff;border: 1px dotted black;border-radius: 0.25em;box-sizing: border-box;margin-bottom: 0.5em;}#sk-container-id-3 div.sk-estimator:hover {background-color: #d4ebff;}#sk-container-id-3 div.sk-parallel-item::after {content: \"\";width: 100%;border-bottom: 1px solid gray;flex-grow: 1;}#sk-container-id-3 div.sk-label:hover label.sk-toggleable__label {background-color: #d4ebff;}#sk-container-id-3 div.sk-serial::before {content: \"\";position: absolute;border-left: 1px solid gray;box-sizing: border-box;top: 0;bottom: 0;left: 50%;z-index: 0;}#sk-container-id-3 div.sk-serial {display: flex;flex-direction: column;align-items: center;background-color: white;padding-right: 0.2em;padding-left: 0.2em;position: relative;}#sk-container-id-3 div.sk-item {position: relative;z-index: 1;}#sk-container-id-3 div.sk-parallel {display: flex;align-items: stretch;justify-content: center;background-color: white;position: relative;}#sk-container-id-3 div.sk-item::before, #sk-container-id-3 div.sk-parallel-item::before {content: \"\";position: absolute;border-left: 1px solid gray;box-sizing: border-box;top: 0;bottom: 0;left: 50%;z-index: -1;}#sk-container-id-3 div.sk-parallel-item {display: flex;flex-direction: column;z-index: 1;position: relative;background-color: white;}#sk-container-id-3 div.sk-parallel-item:first-child::after {align-self: flex-end;width: 50%;}#sk-container-id-3 div.sk-parallel-item:last-child::after {align-self: flex-start;width: 50%;}#sk-container-id-3 div.sk-parallel-item:only-child::after {width: 0;}#sk-container-id-3 div.sk-dashed-wrapped {border: 1px dashed gray;margin: 0 0.4em 0.5em 0.4em;box-sizing: border-box;padding-bottom: 0.4em;background-color: white;}#sk-container-id-3 div.sk-label label {font-family: monospace;font-weight: bold;display: inline-block;line-height: 1.2em;}#sk-container-id-3 div.sk-label-container {text-align: center;}#sk-container-id-3 div.sk-container {/* jupyter's `normalize.less` sets `[hidden] { display: none; }` but bootstrap.min.css set `[hidden] { display: none !important; }` so we also need the `!important` here to be able to override the default hidden behavior on the sphinx rendered scikit-learn.org. See: https://github.com/scikit-learn/scikit-learn/issues/21755 */display: inline-block !important;position: relative;}#sk-container-id-3 div.sk-text-repr-fallback {display: none;}</style><div id=\"sk-container-id-3\" class=\"sk-top-container\"><div class=\"sk-text-repr-fallback\"><pre>MultinomialNB()</pre><b>In a Jupyter environment, please rerun this cell to show the HTML representation or trust the notebook. <br />On GitHub, the HTML representation is unable to render, please try loading this page with nbviewer.org.</b></div><div class=\"sk-container\" hidden><div class=\"sk-item\"><div class=\"sk-estimator sk-toggleable\"><input class=\"sk-toggleable__control sk-hidden--visually\" id=\"sk-estimator-id-3\" type=\"checkbox\" checked><label for=\"sk-estimator-id-3\" class=\"sk-toggleable__label sk-toggleable__label-arrow\">MultinomialNB</label><div class=\"sk-toggleable__content\"><pre>MultinomialNB()</pre></div></div></div></div></div>"
      ],
      "text/plain": [
       "MultinomialNB()"
      ]
     },
     "execution_count": 45,
     "metadata": {},
     "output_type": "execute_result"
    }
   ],
   "source": [
    "model = MultinomialNB()\n",
    "model.fit(encoded_features, encoded_labels)"
   ]
  },
  {
   "cell_type": "code",
   "execution_count": 46,
   "id": "c52c6ff4",
   "metadata": {},
   "outputs": [],
   "source": [
    "def clean_text(text):\n",
    "    text = text.lower()\n",
    "    text = text.translate(str.maketrans('', '', string.punctuation))\n",
    "    text = re.sub(r'\\s+', ' ', text).strip()\n",
    "    return text\n",
    "\n",
    "new_conclusion = 'arc'\n",
    "\n",
    "new_conclusion = clean_text(new_conclusion)\n",
    "\n",
    "new_conclusion_encoded = onehot_encoder.transform([[new_conclusion]])\n",
    "predicted_condition_label = model.predict(new_conclusion_encoded)\n",
    "\n",
    "predicted_condition = label_encoder.inverse_transform(predicted_condition_label)\n",
    "\n",
    "suggested_medications = dataset2[dataset2['medical_condition'] == predicted_condition[0]]['drug_name']\n",
    "suggested_medications_list = suggested_medications.tolist()"
   ]
  },
  {
   "cell_type": "code",
   "execution_count": 49,
   "id": "10b78f54",
   "metadata": {},
   "outputs": [
    {
     "data": {
      "text/plain": [
       "['Rayos', 'Xopenex', 'revefenacin', 'Yupelri']"
      ]
     },
     "execution_count": 49,
     "metadata": {},
     "output_type": "execute_result"
    }
   ],
   "source": [
    "dataset1['conclusion'] = dataset1['conclusion'].str.strip()\n",
    "\n",
    "def get_drug_names_for_conclusion(conclusion, dataset1, dataset2):\n",
    "    medical_conditions = dataset1[dataset1['conclusion'].str.lower() == conclusion.lower()]['medical_condition'].tolist()\n",
    "    if not medical_conditions:\n",
    "        return \"No matching medical condition found for the given conclusion.\"\n",
    "    \n",
    "    drugs = dataset2[dataset2['medical_condition'].isin(medical_conditions)]['drug_name'].tolist()\n",
    "    \n",
    "    return drugs\n",
    "\n",
    "get_drug_names_for_conclusion(\"copd\", dataset1, dataset2)"
   ]
  },
  {
   "cell_type": "code",
   "execution_count": 29,
   "id": "503d460d",
   "metadata": {},
   "outputs": [
    {
     "name": "stdout",
     "output_type": "stream",
     "text": [
      "arc\n"
     ]
    },
    {
     "name": "stderr",
     "output_type": "stream",
     "text": [
      "C:\\Users\\HP\\miniconda3\\envs\\csml\\lib\\site-packages\\sklearn\\model_selection\\_split.py:725: UserWarning: The least populated class in y has only 1 members, which is less than n_splits=5.\n",
      "  warnings.warn(\n"
     ]
    },
    {
     "data": {
      "text/plain": [
       "['Reyataz', 'Epzicom', 'atazanavir', 'Tivicay PD']"
      ]
     },
     "execution_count": 29,
     "metadata": {},
     "output_type": "execute_result"
    }
   ],
   "source": [
    "import pandas as pd\n",
    "import numpy as np\n",
    "import string\n",
    "import re\n",
    "from sklearn.preprocessing import OneHotEncoder\n",
    "from sklearn.preprocessing import LabelEncoder\n",
    "from sklearn.naive_bayes import MultinomialNB\n",
    "\n",
    "dataset1 = pd.read_excel('medical_descriptions_conclusions.xlsx')\n",
    "dataset2 = pd.read_excel('dataset2.xlsx')\n",
    "dataset1.head()\n",
    "\n",
    "def clean_text(text):\n",
    "    text = text.lower()\n",
    "    text = text.translate(str.maketrans('', '', string.punctuation))\n",
    "    text = re.sub(r'\\s+', ' ', text).strip()\n",
    "    return text\n",
    "\n",
    "dataset1['medical_condition'] = dataset1['medical_condition'].apply(clean_text)\n",
    "dataset2['medical_condition'] = dataset2['medical_condition'].apply(clean_text)\n",
    "dataset1['conclusion'] = dataset1['conclusion'].apply(clean_text)\n",
    "\n",
    "dataset1\n",
    "\n",
    "\n",
    "conclusions = dataset1['conclusion']\n",
    "medical_conditions = dataset1['medical_condition']\n",
    "medical_conditions\n",
    "\n",
    "from sklearn.feature_extraction.text import TfidfVectorizer\n",
    "from sklearn.model_selection import cross_val_score\n",
    "\n",
    "# Use TF-IDF Vectorization\n",
    "tfidf_vectorizer = TfidfVectorizer()\n",
    "encoded_features = tfidf_vectorizer.fit_transform(conclusions)\n",
    "\n",
    "# Initialize the label encoder\n",
    "label_encoder = LabelEncoder()\n",
    "encoded_labels = label_encoder.fit_transform(medical_conditions)\n",
    "\n",
    "# Initialize the model\n",
    "model = MultinomialNB()\n",
    "\n",
    "# Cross-validation to check the performance\n",
    "cv_scores = cross_val_score(model, encoded_features, encoded_labels, cv=5)\n",
    "\n",
    "# Train the model on the entire dataset\n",
    "model.fit(encoded_features, encoded_labels)\n",
    "\n",
    "\n",
    "\n",
    "# Rest of the code remains the same\n",
    "\n",
    "\n",
    "# onehot_encoder = OneHotEncoder(sparse=False)\n",
    "# conclusions_reshaped = conclusions.values.reshape(-1, 1)\n",
    "# encoded_features = onehot_encoder.fit_transform(conclusions_reshaped)\n",
    "\n",
    "# label_encoder = LabelEncoder()\n",
    "# encoded_labels = label_encoder.fit_transform(medical_conditions)\n",
    "\n",
    "# model = MultinomialNB()\n",
    "# model.fit(encoded_features, encoded_labels)\n",
    "\n",
    "\n"
   ]
  },
  {
   "cell_type": "code",
   "execution_count": 34,
   "id": "4365c61a",
   "metadata": {},
   "outputs": [
    {
     "name": "stdout",
     "output_type": "stream",
     "text": [
      "adhd\n"
     ]
    },
    {
     "data": {
      "text/plain": [
       "['thiothixene']"
      ]
     },
     "execution_count": 34,
     "metadata": {},
     "output_type": "execute_result"
    }
   ],
   "source": [
    "def clean_text(text):\n",
    "    text = text.lower()\n",
    "    text = text.translate(str.maketrans('', '', string.punctuation))\n",
    "    text = re.sub(r'\\s+', ' ', text).strip()\n",
    "    return text\n",
    "\n",
    "new_conclusion = 'adhd'\n",
    "\n",
    "print(new_conclusion)\n",
    "\n",
    "new_conclusion = clean_text(new_conclusion)\n",
    "\n",
    "# Predict the medical condition\n",
    "new_conclusion_tfidf = tfidf_vectorizer.transform([new_conclusion])\n",
    "predicted_condition_label = model.predict(new_conclusion_tfidf)\n",
    "\n",
    "# Reshape the new conclusion to match the expected 2D array format\n",
    "# new_conclusion_encoded = onehot_encoder.transform([[new_conclusion]])\n",
    "# predicted_condition_label = model.predict(new_conclusion_encoded)\n",
    "\n",
    "predicted_condition = label_encoder.inverse_transform(predicted_condition_label)\n",
    "\n",
    "# Assuming dataset2 is a pandas DataFrame with 'medical_condition' and 'drug_name' columns\n",
    "suggested_medications = dataset2[dataset2['medical_condition'] == predicted_condition[0]]['drug_name']\n",
    "suggested_medications_list = suggested_medications.tolist()\n",
    "\n",
    "# Now suggested_medications_list contains the list of drugs for the predicted condition\n",
    "suggested_medications_list"
   ]
  }
 ],
 "metadata": {
  "kernelspec": {
   "display_name": "Python 3 (ipykernel)",
   "language": "python",
   "name": "python3"
  },
  "language_info": {
   "codemirror_mode": {
    "name": "ipython",
    "version": 3
   },
   "file_extension": ".py",
   "mimetype": "text/x-python",
   "name": "python",
   "nbconvert_exporter": "python",
   "pygments_lexer": "ipython3",
   "version": "3.10.13"
  }
 },
 "nbformat": 4,
 "nbformat_minor": 5
}
