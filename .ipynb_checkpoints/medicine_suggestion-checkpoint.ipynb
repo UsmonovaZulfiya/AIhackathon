{
 "cells": [
  {
   "cell_type": "code",
   "execution_count": 1,
   "id": "b8559e2a",
   "metadata": {},
   "outputs": [],
   "source": [
    "import pandas as pd\n",
    "import numpy as np"
   ]
  },
  {
   "cell_type": "code",
   "execution_count": 65,
   "id": "c635312c",
   "metadata": {},
   "outputs": [
    {
     "data": {
      "text/plain": [
       "129"
      ]
     },
     "execution_count": 65,
     "metadata": {},
     "output_type": "execute_result"
    }
   ],
   "source": [
    "df_initial = pd.read_csv(\"drugs_for_common_treatments_cleaning.csv\")\n",
    "df1 = df_initial[['drug_name', 'medical_condition', 'medical_condition_description', 'rx_otc', 'rating', 'drug_link']].copy()\n",
    "df1 = df1.dropna()\n",
    "df1 = df1[df1['rating'] == 10].copy()\n",
    "\n",
    "\n",
    "def select_members(group):\n",
    "    return group.sample(n=min(5, len(group)), random_state=42)  # Select 10 members or all if less than 10\n",
    "\n",
    "# Apply the function to each group\n",
    "new_df = df1.groupby('medical_condition', group_keys=False).apply(select_members)\n",
    "new_df['medical_condition'].value_counts()\n",
    "new_df.value_counts().sum()"
   ]
  },
  {
   "cell_type": "code",
   "execution_count": 47,
   "id": "9c0aea62",
   "metadata": {},
   "outputs": [],
   "source": [
    "df_med_data = df1[['medical_condition', 'medical_condition_description']].copy()\n",
    "df_med_data = df_med_data.drop_duplicates()\n",
    "df_med_data.to_csv('medical_descriptions.csv', index=False)"
   ]
  },
  {
   "cell_type": "code",
   "execution_count": 49,
   "id": "6487d182",
   "metadata": {},
   "outputs": [],
   "source": [
    "df1.to_csv('dataset1.csv', index=False)"
   ]
  }
 ],
 "metadata": {
  "kernelspec": {
   "display_name": "Python 3 (ipykernel)",
   "language": "python",
   "name": "python3"
  },
  "language_info": {
   "codemirror_mode": {
    "name": "ipython",
    "version": 3
   },
   "file_extension": ".py",
   "mimetype": "text/x-python",
   "name": "python",
   "nbconvert_exporter": "python",
   "pygments_lexer": "ipython3",
   "version": "3.10.13"
  }
 },
 "nbformat": 4,
 "nbformat_minor": 5
}
